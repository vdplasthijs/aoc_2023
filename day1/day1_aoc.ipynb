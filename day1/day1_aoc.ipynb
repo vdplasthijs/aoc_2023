{
 "cells": [
  {
   "cell_type": "code",
   "execution_count": 1,
   "metadata": {},
   "outputs": [],
   "source": [
    "%load_ext autoreload\n",
    "%autoreload 2\n",
    "\n",
    "import numpy as np\n",
    "import os, sys \n",
    "sys.path.append('..')\n",
    "\n",
    "import aoc_utils as au"
   ]
  },
  {
   "cell_type": "code",
   "execution_count": 2,
   "metadata": {},
   "outputs": [],
   "source": [
    "input_text = au.read_txt_file_lines()"
   ]
  },
  {
   "cell_type": "code",
   "execution_count": 36,
   "metadata": {},
   "outputs": [
    {
     "data": {
      "text/plain": [
       "54667"
      ]
     },
     "execution_count": 36,
     "metadata": {},
     "output_type": "execute_result"
    }
   ],
   "source": [
    "def return_two_digits_from_str(s):\n",
    "    s_digits = ''.join([x if x.isdigit() else '' for x in s])\n",
    "    two_digit = s_digits[0] + s_digits[-1]\n",
    "    return int(two_digit)\n",
    "\n",
    "def return_all_two_digits_from_list(l):\n",
    "    return [return_two_digits_from_str(x) for x in l]\n",
    "\n",
    "np.sum(return_all_two_digits_from_list(input_text))"
   ]
  },
  {
   "cell_type": "code",
   "execution_count": 37,
   "metadata": {},
   "outputs": [
    {
     "data": {
      "text/plain": [
       "54203"
      ]
     },
     "execution_count": 37,
     "metadata": {},
     "output_type": "execute_result"
    }
   ],
   "source": [
    "def return_two_digits_incl_spelled_out_from_str(s):\n",
    "    list_digits_spelled_out = ['one', 'two', 'three', 'four', 'five', 'six', 'seven', 'eight', 'nine']\n",
    "   \n",
    "    keep_searching = True\n",
    "    while keep_searching:\n",
    "        for i, x in enumerate(s):\n",
    "            if x.isdigit():\n",
    "                first_digit = x\n",
    "                keep_searching = False \n",
    "                break \n",
    "            else:\n",
    "                for dig in list_digits_spelled_out:\n",
    "                    len_dig = len(dig)\n",
    "                    if s[i:i+len_dig] == dig:\n",
    "                        first_digit = str(list_digits_spelled_out.index(dig) + 1)\n",
    "                        keep_searching = False\n",
    "                        break\n",
    "                if keep_searching == False:\n",
    "                    break\n",
    "                \n",
    "\n",
    "    keep_searching = True\n",
    "    while keep_searching:\n",
    "        for i, x in enumerate(s[::-1]):\n",
    "            if x.isdigit():\n",
    "                second_digit = x\n",
    "                keep_searching = False \n",
    "                break \n",
    "            else:\n",
    "                for dig in list_digits_spelled_out:\n",
    "                    len_dig = len(dig)\n",
    "                    if s[::-1][i:i+len_dig][::-1] == dig:\n",
    "                        second_digit = str(list_digits_spelled_out.index(dig) + 1)\n",
    "                        keep_searching = False\n",
    "                        break\n",
    "                if keep_searching == False:\n",
    "                    break\n",
    "\n",
    "    two_digit = first_digit + second_digit\n",
    "    return int(two_digit)\n",
    "\n",
    "def return_all_two_digits_from_list(l):\n",
    "    return [return_two_digits_incl_spelled_out_from_str(x) for x in l]\n",
    "\n",
    "np.sum(return_all_two_digits_from_list(input_text))"
   ]
  }
 ],
 "metadata": {
  "kernelspec": {
   "display_name": "py37",
   "language": "python",
   "name": "python3"
  },
  "language_info": {
   "codemirror_mode": {
    "name": "ipython",
    "version": 3
   },
   "file_extension": ".py",
   "mimetype": "text/x-python",
   "name": "python",
   "nbconvert_exporter": "python",
   "pygments_lexer": "ipython3",
   "version": "3.7.4"
  }
 },
 "nbformat": 4,
 "nbformat_minor": 2
}
