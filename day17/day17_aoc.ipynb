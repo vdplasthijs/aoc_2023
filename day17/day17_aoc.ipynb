{
 "cells": [
  {
   "cell_type": "code",
   "execution_count": 32,
   "metadata": {},
   "outputs": [
    {
     "name": "stdout",
     "output_type": "stream",
     "text": [
      "The autoreload extension is already loaded. To reload it, use:\n",
      "  %reload_ext autoreload\n"
     ]
    }
   ],
   "source": [
    "%load_ext autoreload\n",
    "%autoreload 2\n",
    "\n",
    "import numpy as np\n",
    "import os, sys \n",
    "sys.path.append('..')\n",
    "import collections\n",
    "import copy\n",
    "import itertools\n",
    "import aoc_utils as au\n",
    "import math \n",
    "from tqdm import tqdm\n",
    "import matplotlib.pyplot as plt"
   ]
  },
  {
   "cell_type": "code",
   "execution_count": 33,
   "metadata": {},
   "outputs": [
    {
     "name": "stdout",
     "output_type": "stream",
     "text": [
      "input has 13 rows and 13 cols\n"
     ]
    }
   ],
   "source": [
    "input_text = au.read_txt_file_lines('input2.txt')\n",
    "n_rows = len(input_text)\n",
    "n_cols = len(input_text[0])\n",
    "for ii in range(1, n_rows):\n",
    "    assert len(input_text[ii]) == n_cols, f'row {ii} has {len(input_text[ii])} cols, not {n_cols}'\n",
    "print(f'input has {n_rows} rows and {n_cols} cols')"
   ]
  },
  {
   "cell_type": "code",
   "execution_count": 34,
   "metadata": {},
   "outputs": [],
   "source": [
    "input_mat = np.zeros((n_rows, n_cols), dtype=int)\n",
    "for i_row, row in enumerate(input_text):\n",
    "    for i_col, col in enumerate(row):\n",
    "        el = int(col)\n",
    "        assert el in [1, 2, 3, 4, 5, 6, 7, 8, 9]\n",
    "        input_mat[i_row, i_col] = el"
   ]
  },
  {
   "cell_type": "code",
   "execution_count": 46,
   "metadata": {},
   "outputs": [],
   "source": [
    "node = collections.namedtuple('node', 'x y')\n",
    "\n",
    "def find_path_new(mat_weights):\n",
    "    n_rows, n_cols = mat_weights.shape\n",
    "    start_pos = node(0, 0)\n",
    "    end_pos = (n_rows - 1, n_cols - 1)\n",
    "    set_all_unvisited = set([node(i, j) for i in range(n_rows) for j in range(n_cols)])\n",
    "    set_all_unvisited.remove(node(0, 0))\n",
    "    set_all_visited = set([node(0, 0)])\n",
    "\n",
    "    dict_cumulative_dist = {(0, 0): 0}\n",
    "\n",
    "    prev_node = None\n",
    "    curr_node = start_pos\n",
    "    n_same_dir = 0 \n",
    "    \n",
    "    i_it = 0\n",
    "    while len(set_all_unvisited) > 0 and end_pos not in set_all_visited:\n",
    "        i_it += 1\n",
    "        \n",
    "        ## find neighbors that are not in set_all_visited\n",
    "        list_possible_next_nodes = []\n",
    "        if curr_node.x > 0:\n",
    "            list_possible_next_nodes.append(node(curr_node.x - 1, curr_node.y))\n",
    "        if curr_node.x < n_rows - 1:\n",
    "            list_possible_next_nodes.append(node(curr_node.x + 1, curr_node.y))\n",
    "        if curr_node.y > 0:\n",
    "            list_possible_next_nodes.append(node(curr_node.x, curr_node.y - 1))\n",
    "        if curr_node.y < n_cols - 1:\n",
    "            list_possible_next_nodes.append(node(curr_node.x, curr_node.y + 1))\n",
    "        list_possible_next_nodes = [x for x in list_possible_next_nodes if x in set_all_unvisited]\n",
    "        \n",
    "        # assert len(list_possible_next_nodes) > 0, f'no possible next nodes for {curr_node} at iteration {i_it}. visited {set_all_visited}'\n",
    "        if len(list_possible_next_nodes) == 0:\n",
    "            print(f'no possible next nodes for {curr_node} at iteration {i_it}. visited {set_all_visited}')\n",
    "            for tmp_coords in set_all_unvisited:\n",
    "                for tmp_coords2 in set_all_visited:\n",
    "                    if np.abs(tmp_coords.x - tmp_coords2.x) + np.abs(tmp_coords.y - tmp_coords2.y) == 1:\n",
    "                        list_possible_next_nodes.append(tmp_coords)\n",
    "                        # break \n",
    "\n",
    "        if prev_node is not None:\n",
    "            prev_dir = (curr_node.x - prev_node.x, curr_node.y - prev_node.y)\n",
    "        else:\n",
    "            prev_dir = None\n",
    "        ## find the one with the lowest weight\n",
    "        list_dist = []\n",
    "        for i_node, node_next in enumerate(list_possible_next_nodes):\n",
    "            if node_next in dict_cumulative_dist:\n",
    "                existing_dist = dict_cumulative_dist[node_next]\n",
    "            else:\n",
    "                existing_dist = np.inf\n",
    "\n",
    "            ## remove the one that is in the same direction as the previous one\n",
    "            if prev_node is not None:\n",
    "                new_dir = (node_next.x - curr_node.x, node_next.y - curr_node.y)\n",
    "                if n_same_dir >= 2 and new_dir == prev_dir:\n",
    "                    list_dist.append(np.inf)\n",
    "                    continue\n",
    "\n",
    "            new_dist = dict_cumulative_dist[curr_node] + mat_weights[node_next.x, node_next.y]\n",
    "            best_dist = min(existing_dist, new_dist)\n",
    "            list_dist.append(best_dist)\n",
    "            dict_cumulative_dist[node_next] = best_dist\n",
    "\n",
    "        arg_min = np.argmin(list_dist)\n",
    "        next_node = list_possible_next_nodes[arg_min]\n",
    "        set_all_visited.add(next_node)\n",
    "        set_all_unvisited.remove(next_node)\n",
    "\n",
    "        if prev_dir is not None:\n",
    "            new_dir = (next_node.x - curr_node.x, next_node.y - curr_node.y)\n",
    "            if new_dir == prev_dir:\n",
    "                n_same_dir += 1\n",
    "            else:\n",
    "                n_same_dir = 0\n",
    "\n",
    "        prev_node = curr_node\n",
    "        curr_node = next_node\n",
    "\n",
    "    return dict_cumulative_dist\n",
    "\n",
    "def create_heatmap(dict_cumulative_dist, input_mat):\n",
    "    n_rows, n_cols = input_mat.shape\n",
    "    heatmap = np.zeros((n_rows, n_cols))\n",
    "    for i_row in range(n_rows):\n",
    "        for i_col in range(n_cols):\n",
    "            if (i_row, i_col) in dict_cumulative_dist:\n",
    "                heatmap[i_row, i_col] = dict_cumulative_dist[(i_row, i_col)]\n",
    "            else:\n",
    "                heatmap[i_row, i_col] = np.nan\n",
    "    return heatmap"
   ]
  },
  {
   "cell_type": "code",
   "execution_count": 47,
   "metadata": {},
   "outputs": [
    {
     "name": "stdout",
     "output_type": "stream",
     "text": [
      "no possible next nodes for node(x=12, y=0) at iteration 35. visited {node(x=4, y=0), node(x=12, y=1), node(x=3, y=1), node(x=5, y=1), node(x=8, y=0), node(x=0, y=2), node(x=10, y=0), node(x=2, y=2), node(x=1, y=0), node(x=6, y=2), node(x=7, y=1), node(x=12, y=0), node(x=4, y=2), node(x=3, y=0), node(x=5, y=0), node(x=8, y=2), node(x=9, y=1), node(x=0, y=1), node(x=11, y=1), node(x=1, y=2), node(x=2, y=1), node(x=6, y=1), node(x=7, y=0), node(x=3, y=2), node(x=4, y=1), node(x=5, y=2), node(x=9, y=0), node(x=0, y=0), node(x=8, y=1), node(x=11, y=0), node(x=1, y=1), node(x=2, y=0), node(x=10, y=1), node(x=7, y=2), node(x=6, y=0)}\n",
      "no possible next nodes for node(x=0, y=11) at iteration 86. visited {node(x=4, y=0), node(x=4, y=9), node(x=5, y=1), node(x=8, y=0), node(x=0, y=5), node(x=2, y=2), node(x=2, y=11), node(x=6, y=2), node(x=7, y=1), node(x=4, y=2), node(x=3, y=6), node(x=5, y=3), node(x=8, y=2), node(x=9, y=1), node(x=0, y=7), node(x=2, y=4), node(x=1, y=8), node(x=6, y=4), node(x=7, y=3), node(x=3, y=8), node(x=5, y=5), node(x=0, y=0), node(x=11, y=0), node(x=0, y=9), node(x=1, y=10), node(x=3, y=1), node(x=3, y=10), node(x=0, y=2), node(x=1, y=3), node(x=1, y=12), node(x=3, y=3), node(x=5, y=0), node(x=4, y=11), node(x=1, y=5), node(x=6, y=1), node(x=7, y=0), node(x=3, y=5), node(x=5, y=2), node(x=4, y=4), node(x=9, y=0), node(x=10, y=1), node(x=1, y=7), node(x=2, y=6), node(x=7, y=2), node(x=12, y=1), node(x=5, y=4), node(x=1, y=0), node(x=1, y=9), node(x=0, y=11), node(x=2, y=8), node(x=7, y=4), node(x=3, y=0), node(x=3, y=9), node(x=4, y=8), node(x=1, y=2), node(x=0, y=4), node(x=2, y=1), node(x=1, y=11), node(x=2, y=10), node(x=3, y=2), node(x=4, y=1), node(x=3, y=11), node(x=4, y=10), node(x=8, y=1), node(x=1, y=4), node(x=0, y=6), node(x=2, y=3), node(x=6, y=3), node(x=3, y=4), node(x=4, y=3), node(x=10, y=0), node(x=1, y=6), node(x=0, y=8), node(x=2, y=5), node(x=12, y=0), node(x=4, y=5), node(x=0, y=1), node(x=11, y=1), node(x=0, y=10), node(x=2, y=7), node(x=1, y=1), node(x=0, y=3), node(x=2, y=0), node(x=0, y=12), node(x=2, y=9), node(x=6, y=0)}\n",
      "no possible next nodes for node(x=3, y=7) at iteration 106. visited {node(x=4, y=0), node(x=4, y=9), node(x=5, y=1), node(x=8, y=0), node(x=0, y=5), node(x=2, y=2), node(x=2, y=11), node(x=6, y=2), node(x=7, y=1), node(x=4, y=2), node(x=3, y=6), node(x=5, y=3), node(x=8, y=2), node(x=9, y=1), node(x=0, y=7), node(x=2, y=4), node(x=1, y=8), node(x=6, y=4), node(x=7, y=3), node(x=3, y=8), node(x=5, y=5), node(x=8, y=4), node(x=9, y=3), node(x=0, y=0), node(x=11, y=0), node(x=0, y=9), node(x=1, y=10), node(x=6, y=6), node(x=7, y=5), node(x=3, y=1), node(x=3, y=10), node(x=0, y=2), node(x=11, y=2), node(x=1, y=3), node(x=1, y=12), node(x=3, y=3), node(x=5, y=0), node(x=4, y=11), node(x=1, y=5), node(x=6, y=1), node(x=7, y=0), node(x=3, y=5), node(x=5, y=2), node(x=4, y=4), node(x=9, y=0), node(x=10, y=1), node(x=1, y=7), node(x=2, y=6), node(x=7, y=2), node(x=12, y=1), node(x=3, y=7), node(x=5, y=4), node(x=4, y=6), node(x=9, y=2), node(x=10, y=3), node(x=1, y=0), node(x=1, y=9), node(x=0, y=11), node(x=2, y=8), node(x=7, y=4), node(x=12, y=3), node(x=3, y=0), node(x=3, y=9), node(x=5, y=6), node(x=4, y=8), node(x=1, y=2), node(x=0, y=4), node(x=2, y=1), node(x=1, y=11), node(x=2, y=10), node(x=3, y=2), node(x=4, y=1), node(x=3, y=11), node(x=4, y=10), node(x=8, y=1), node(x=1, y=4), node(x=0, y=6), node(x=2, y=3), node(x=6, y=3), node(x=3, y=4), node(x=4, y=3), node(x=8, y=3), node(x=10, y=0), node(x=1, y=6), node(x=0, y=8), node(x=2, y=5), node(x=6, y=5), node(x=12, y=0), node(x=4, y=5), node(x=8, y=5), node(x=10, y=2), node(x=9, y=4), node(x=0, y=1), node(x=11, y=1), node(x=0, y=10), node(x=2, y=7), node(x=12, y=2), node(x=4, y=7), node(x=10, y=4), node(x=1, y=1), node(x=0, y=3), node(x=2, y=0), node(x=11, y=3), node(x=0, y=12), node(x=2, y=9), node(x=6, y=0)}\n",
      "Final heat: 83\n"
     ]
    },
    {
     "data": {
      "text/plain": [
       "<matplotlib.colorbar.Colorbar at 0x13ad61570>"
      ]
     },
     "execution_count": 47,
     "metadata": {},
     "output_type": "execute_result"
    },
    {
     "data": {
      "image/png": "[encoded data removed]",
      "text/plain": [
       "<Figure size 640x480 with 2 Axes>"
      ]
     },
     "metadata": {},
     "output_type": "display_data"
    }
   ],
   "source": [
    "dict_cum_dist = find_path_new(input_mat)\n",
    "print(f'Final heat: {dict_cum_dist[(n_rows - 1, n_cols - 1)]}')\n",
    "plt.imshow(create_heatmap(dict_cum_dist, input_mat).T)\n",
    "plt.colorbar()"
   ]
  },
  {
   "cell_type": "code",
   "execution_count": 12,
   "metadata": {},
   "outputs": [
    {
     "data": {
      "text/plain": [
       "array([[2, 4, 1, 3, 4, 3, 2, 3, 1, 1, 3, 2, 3],\n",
       "       [3, 2, 1, 5, 4, 5, 3, 5, 3, 5, 6, 2, 3],\n",
       "       [3, 2, 5, 5, 2, 4, 5, 6, 5, 4, 2, 5, 4],\n",
       "       [3, 4, 4, 6, 5, 8, 5, 8, 4, 5, 4, 5, 2],\n",
       "       [4, 5, 4, 6, 6, 5, 7, 8, 6, 7, 5, 3, 6],\n",
       "       [1, 4, 3, 8, 5, 9, 8, 7, 9, 8, 4, 5, 4],\n",
       "       [4, 4, 5, 7, 8, 7, 6, 9, 8, 7, 7, 6, 6],\n",
       "       [3, 6, 3, 7, 8, 7, 7, 9, 7, 9, 6, 5, 3],\n",
       "       [4, 6, 5, 4, 9, 6, 7, 9, 8, 6, 8, 8, 7],\n",
       "       [4, 5, 6, 4, 6, 7, 9, 9, 8, 6, 4, 5, 3],\n",
       "       [1, 2, 2, 4, 6, 8, 6, 8, 6, 5, 5, 6, 3],\n",
       "       [2, 5, 4, 6, 5, 4, 8, 8, 8, 7, 7, 3, 5],\n",
       "       [4, 3, 2, 2, 6, 7, 4, 6, 5, 5, 5, 3, 3]])"
      ]
     },
     "execution_count": 12,
     "metadata": {},
     "output_type": "execute_result"
    }
   ],
   "source": [
    "input_mat"
   ]
  },
  {
   "cell_type": "code",
   "execution_count": null,
   "metadata": {},
   "outputs": [],
   "source": []
  }
 ],
 "metadata": {
  "kernelspec": {
   "display_name": "py37",
   "language": "python",
   "name": "python3"
  },
  "language_info": {
   "codemirror_mode": {
    "name": "ipython",
    "version": 3
   },
   "file_extension": ".py",
   "mimetype": "text/x-python",
   "name": "python",
   "nbconvert_exporter": "python",
   "pygments_lexer": "ipython3",
   "version": "3.10.13"
  }
 },
 "nbformat": 4,
 "nbformat_minor": 2
}
