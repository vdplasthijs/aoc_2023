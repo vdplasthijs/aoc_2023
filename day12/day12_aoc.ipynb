{
 "cells": [
  {
   "cell_type": "code",
   "execution_count": 24,
   "metadata": {},
   "outputs": [
    {
     "name": "stdout",
     "output_type": "stream",
     "text": [
      "The autoreload extension is already loaded. To reload it, use:\n",
      "  %reload_ext autoreload\n"
     ]
    }
   ],
   "source": [
    "%load_ext autoreload\n",
    "%autoreload 2\n",
    "\n",
    "import numpy as np\n",
    "import os, sys \n",
    "sys.path.append('..')\n",
    "import collections\n",
    "import copy\n",
    "import itertools\n",
    "import aoc_utils as au\n",
    "from tqdm import tqdm as tqdm\n"
   ]
  },
  {
   "cell_type": "code",
   "execution_count": 25,
   "metadata": {},
   "outputs": [
    {
     "data": {
      "text/plain": [
       "['??#.?#?#??? 1,3,1',\n",
       " '?????.??.???. 1,1,1',\n",
       " '??????.??..? 2,1,2',\n",
       " '.??#???.??? 3,1,1',\n",
       " '??##?#?????.. 5,1']"
      ]
     },
     "execution_count": 25,
     "metadata": {},
     "output_type": "execute_result"
    }
   ],
   "source": [
    "input_text = au.read_txt_file_lines('input.txt')\n",
    "n_rows = len(input_text)\n",
    "# n_cols = len(input_text[0])\n",
    "# for ii in range(1, n_rows):\n",
    "#     assert len(input_text[ii]) == n_cols, f'row {ii} has {len(input_text[ii])} cols, not {n_cols}'\n",
    "# print(f'input has {n_rows} rows and {n_cols} cols')\n",
    "input_text[:5]"
   ]
  },
  {
   "cell_type": "code",
   "execution_count": 26,
   "metadata": {},
   "outputs": [
    {
     "data": {
      "text/plain": [
       "[data_row(locations='??#.?#?#???', counts=[1, 3, 1]),\n",
       " data_row(locations='?????.??.???.', counts=[1, 1, 1]),\n",
       " data_row(locations='??????.??..?', counts=[2, 1, 2]),\n",
       " data_row(locations='.??#???.???', counts=[3, 1, 1]),\n",
       " data_row(locations='??##?#?????..', counts=[5, 1])]"
      ]
     },
     "execution_count": 26,
     "metadata": {},
     "output_type": "execute_result"
    }
   ],
   "source": [
    "data_row = collections.namedtuple('data_row', 'locations counts')\n",
    "list_data_rows = []\n",
    "list_n_qs = []\n",
    "for row in input_text:\n",
    "    assert '?' in row\n",
    "    tmp = row.split(' ')\n",
    "    assert len(tmp) == 2\n",
    "    locations = tmp[0] \n",
    "    counts = [int(x) for x in tmp[1].split(',')] \n",
    "    # print(locations, counts)\n",
    "    list_data_rows.append(data_row(locations, counts))    \n",
    "    list_n_qs.append(locations.count('?'))\n",
    "list_data_rows[:5]"
   ]
  },
  {
   "cell_type": "code",
   "execution_count": 30,
   "metadata": {},
   "outputs": [
    {
     "name": "stdout",
     "output_type": "stream",
     "text": [
      "6935\n"
     ]
    }
   ],
   "source": [
    "def place_hashes(size, count):\n",
    "    '''with help from https://stackoverflow.com/questions/43816965/permutation-without-duplicates-in-python'''\n",
    "    for positions in itertools.combinations(range(size), count):\n",
    "        p = ['.'] * size\n",
    "\n",
    "        for i in positions:\n",
    "            p[i] = '#'\n",
    "\n",
    "        yield p\n",
    "\n",
    "def check_sequence_correct(seq, counts):\n",
    "    ## assert seq is a string of .s and #s \n",
    "    assert type(seq) == str\n",
    "    assert set(seq).issubset(set('.#'))\n",
    "\n",
    "    ## check that the number of #s in seq matches the counts\n",
    "    seq_split = seq.split('.') \n",
    "    seq_count = [len(x) for x in seq_split if len(x) > 0]\n",
    "    return seq_count == counts\n",
    "\n",
    "def get_n_perms_per_seq(seq, counts, verbose=0):\n",
    "    assert '?' in seq\n",
    "    assert type(seq) == str\n",
    "    assert set(seq).issubset(set('.#?'))\n",
    "\n",
    "    n_hash = seq.count('#')\n",
    "    n_q = seq.count('?')\n",
    "    n_hash_counts = sum(counts) - n_hash\n",
    "    n_dot_counts = n_q - n_hash_counts\n",
    "    assert n_dot_counts >= 0, f'{n_dot_counts} < 0, {seq}, {counts}, {n_q}, {n_hash_counts}'\n",
    "    n_perms = 0\n",
    "    if verbose:\n",
    "        print(f'{n_dot_counts} dots, {n_hash_counts} hashes, {n_q} qs')\n",
    "    \n",
    "    n_loop = 0 \n",
    "    for new_elements in place_hashes(n_q, n_hash_counts):\n",
    "        n_loop += 1\n",
    "        ## replace the ?s with the seq_try\n",
    "        seq_try = list(seq)\n",
    "        for ii, char in enumerate(new_elements):\n",
    "            seq_try[seq_try.index('?')] = char\n",
    "        seq_try = ''.join(seq_try)\n",
    "        if verbose:\n",
    "            print(new_elements)\n",
    "        if check_sequence_correct(seq_try, counts):\n",
    "            if verbose:\n",
    "                print(seq_try, seq, counts)\n",
    "            n_perms += 1\n",
    "    if verbose:\n",
    "        print(f'done in {n_loop} loops, {n_perms} perms')\n",
    "    return n_perms\n",
    "\n",
    "def get_n_perms_per_row(row):\n",
    "    assert type(row) == data_row\n",
    "    return get_n_perms_per_seq(row.locations, row.counts)\n",
    "\n",
    "n_perm_total = 0 \n",
    "for row in list_data_rows:\n",
    "    # print(n_perm_total)\n",
    "    n_perm_total += get_n_perms_per_row(row)\n",
    "print(n_perm_total)\n",
    "# get_n_perms_per_seq(list_data_rows[0].locations, list_data_rows[0].counts)  "
   ]
  },
  {
   "cell_type": "markdown",
   "metadata": {},
   "source": [
    "# part 2 \n",
    "tricky .. \n",
    "**Could start going through special cases? **\n",
    "- (Note that the method above could be a lot faster if special cases were included via if statements, just to get down number of perms.. but is considerable effort)\n",
    "- If sequence ends with two `.`s, then the added `?` will always be a `.`, and hence, the total number of sequence perms will be the original number of perms `** 5`. \n",
    "- If not, then there will still be repetition! 4 times the same thing, plus an ending without extra `?` (plus spill-over into next sequence). \n",
    "- So maybe we can split up the new combined sequence in 2 parts: the first sequence + spill-over, and the remainder of the fifth part. Solve both. Then `perm_total = perm_1 ** 4 * perm_2`\n",
    "\n",
    "\n",
    "Okay plan is:\n",
    "1. Create new data structure, of `seq_1`, `count_1`, `seq_2`, `count_2`. (Merge, split past spill-over. Maybe use special cases of whether start/ends are `?` or not?)\n",
    "2. Solve both \n",
    "3. Combine perms \n",
    "\n",
    "**Update:**\n",
    "- Actually this is not perfect. Eg `..?..?..?.. [1,1]` first has 3 combinations, but in part 2 would have to be re-evaluated as a whole... (leading to (19, 10) permutations)\n",
    "\n",
    "Plan 2:\n",
    "- Could we consider trying out all connecting `?` possibilities separately? Those are 16 combinations. \n",
    "- I think the issue is the same; we cannot shortcut by considering original sequences separately and combining (the example above still fails). Maybe that example is too extreme.. but it seems kind of fruitless to code this up and run into some annoying sequence like that. \n",
    "\n",
    "Plan 3: \n",
    "- Going back to the start; can we start by filling in all the spots we know for sure? Ie one forward pass through all (combined) sequences and filling in all `?` that have just one possibility. That might massively bring down number of perms.\n",
    "- Secondly, if there are (large) contiguous groups of `?`, where we know for sure they must accomodate a large number of `#`, it would be brilliant if we could just take the (n, k) perm number and multiply instead of evaluating every combination of entire sequence .. "
   ]
  },
  {
   "cell_type": "code",
   "execution_count": 31,
   "metadata": {},
   "outputs": [
    {
     "name": "stdout",
     "output_type": "stream",
     "text": [
      "data_row(locations='??#.?#?#???', counts=[1, 3, 1])\n"
     ]
    }
   ],
   "source": [
    "data_row_part2 = collections.namedtuple('data_row_part2', 'locations_1 counts_1 locations_2 counts_2')\n",
    "list_data_rows_part2 = [] \n",
    "\n",
    "for row in list_data_rows:\n",
    "    print(row)\n",
    "    start_char = row.locations[0]\n",
    "    end_char = row.locations[-1] \n",
    "    if start_char != '?' and end_char != '?': \n",
    "        seq_1 = row.locations + '?'\n",
    "    \n",
    "\n",
    "    break"
   ]
  },
  {
   "cell_type": "code",
   "execution_count": 32,
   "metadata": {},
   "outputs": [
    {
     "data": {
      "text/plain": [
       "'...?'"
      ]
     },
     "execution_count": 32,
     "metadata": {},
     "output_type": "execute_result"
    }
   ],
   "source": [
    "'...' + '?'"
   ]
  },
  {
   "cell_type": "code",
   "execution_count": null,
   "metadata": {},
   "outputs": [],
   "source": []
  }
 ],
 "metadata": {
  "kernelspec": {
   "display_name": "py37",
   "language": "python",
   "name": "python3"
  },
  "language_info": {
   "codemirror_mode": {
    "name": "ipython",
    "version": 3
   },
   "file_extension": ".py",
   "mimetype": "text/x-python",
   "name": "python",
   "nbconvert_exporter": "python",
   "pygments_lexer": "ipython3",
   "version": "3.7.4"
  }
 },
 "nbformat": 4,
 "nbformat_minor": 2
}
