{
 "cells": [
  {
   "cell_type": "code",
   "execution_count": 1,
   "metadata": {},
   "outputs": [],
   "source": [
    "%load_ext autoreload\n",
    "%autoreload 2\n",
    "\n",
    "import numpy as np\n",
    "import os, sys \n",
    "sys.path.append('..')\n",
    "import collections\n",
    "import copy\n",
    "import itertools\n",
    "import aoc_utils as au\n",
    "import math \n",
    "from tqdm import tqdm"
   ]
  },
  {
   "cell_type": "code",
   "execution_count": 3,
   "metadata": {},
   "outputs": [],
   "source": [
    "input_text = au.read_txt_file_lines()\n",
    "n_rows = len(input_text)"
   ]
  },
  {
   "cell_type": "code",
   "execution_count": 6,
   "metadata": {},
   "outputs": [
    {
     "name": "stdout",
     "output_type": "stream",
     "text": [
      "506\n"
     ]
    }
   ],
   "source": [
    "for l in input_text:\n",
    "    if l == '':\n",
    "        print(input_text.index(l))\n",
    "        ind = input_text.index(l) \n",
    "\n",
    "input_ops = input_text[:ind] \n",
    "input_data = input_text[ind+1:]"
   ]
  },
  {
   "cell_type": "code",
   "execution_count": 15,
   "metadata": {},
   "outputs": [],
   "source": [
    "## store parts as named tuples\n",
    "part = collections.namedtuple('part', 'x m a s')\n",
    "parts = []\n",
    "for l in input_data:\n",
    "    tmp = l.lstrip('{').rstrip('}').split(',')\n",
    "    assert len(tmp) == 4 \n",
    "    assert tmp[0].startswith('x=') and tmp[1].startswith('m=') and tmp[2].startswith('a=') and tmp[3].startswith('s=')\n",
    "    tmp = [int(x.split('=')[1]) for x in tmp]\n",
    "    parts.append(part(*tmp))"
   ]
  },
  {
   "cell_type": "code",
   "execution_count": 74,
   "metadata": {},
   "outputs": [],
   "source": [
    "def generic_op(str_op):\n",
    "    '''given a str (like \"a<123:R\" or \"A\"), return a function that takes a part and returns True/False + outcome'''\n",
    "    if len(str_op) == 1:\n",
    "        if str_op == 'R':\n",
    "            return (lambda x: True, 'R')\n",
    "        elif str_op == 'A':\n",
    "            return (lambda x: True, 'A')\n",
    "        else:\n",
    "            assert False, 'unknown op'\n",
    "    elif len(str_op) > 1 and ('<' in str_op or '>' in str_op):\n",
    "        tmp = str_op.split(':')\n",
    "        assert len(tmp) == 2, f'{str_op}'\n",
    "        cond = tmp[0]\n",
    "        result = tmp[1]\n",
    "        assert cond[1] in ['<', '>'], f'{cond} not < >'\n",
    "        operation = cond[1]\n",
    "        cond = cond.split(operation)\n",
    "        assert len(cond) == 2\n",
    "        component = cond[0]\n",
    "        value = int(cond[1])\n",
    "        assert len(component) == 1 and component in ['x', 'm', 'a', 's']\n",
    "        if operation == '<':\n",
    "            return lambda x: getattr(x, component) < value, result\n",
    "        elif operation == '>':\n",
    "            return lambda x: getattr(x, component) > value, result\n",
    "        else:\n",
    "            assert False, 'unknown operation'\n",
    "    else:   ## box name \n",
    "        return (lambda x: True, str_op)\n",
    "\n",
    "def evaluate_op(str_op, part):\n",
    "    '''given a str_op and part, evaluate op and return result if True'''\n",
    "    op_fun, result_if_true = generic_op(str_op)\n",
    "    # print(op_fun(part), result_if_true)\n",
    "    if op_fun(part):\n",
    "        return result_if_true \n",
    "    else:\n",
    "        return None \n",
    "    \n",
    "def evaluate_box(box_name, part):\n",
    "    '''loop through ops in box and evaluate until result is found. recursively call other boxes if needed. assert false if end is reached without result'''\n",
    "    ops = dict_boxes[box_name]\n",
    "    for op in ops:\n",
    "        res = evaluate_op(op, part)\n",
    "        # print(op, res)\n",
    "        if res is not None:\n",
    "            if res in ['A', 'R']:\n",
    "                return res \n",
    "            else: \n",
    "                return evaluate_box(res, part)    \n",
    "    assert False, 'no result found'\n",
    "    \n",
    "## create dict with boxes with lsit of str_ops\n",
    "dict_boxes = {} \n",
    "for l in input_ops:\n",
    "    tmp = l.split('{')\n",
    "    assert len(tmp) == 2, f'{l}'\n",
    "    name_box = tmp[0]\n",
    "    all_ops = tmp[1].rstrip('}').split(',')\n",
    "    assert name_box not in dict_boxes\n",
    "    dict_boxes[name_box] = [x for x in all_ops]\n"
   ]
  },
  {
   "cell_type": "code",
   "execution_count": 75,
   "metadata": {},
   "outputs": [
    {
     "name": "stdout",
     "output_type": "stream",
     "text": [
      "353046\n"
     ]
    }
   ],
   "source": [
    "total_accepted = 0\n",
    "for part_curr in parts:\n",
    "    res = evaluate_box('in', part_curr)\n",
    "    if res == 'A':\n",
    "        total_accepted += (part_curr.x + part_curr.m + part_curr.a + part_curr.s) \n",
    "\n",
    "print(total_accepted)"
   ]
  },
  {
   "cell_type": "markdown",
   "metadata": {},
   "source": [
    "## part 2: \n",
    "\n",
    "excercise: of all possible parts with x,m,a,s in (0, 4000), how many combinations are possible?\n",
    "\n",
    "bit like day 5, which I solved very *hackily* at the time.. \n",
    "\n",
    "**Thoughts:**\n",
    "- Want to solve with ranges. Seems doable.. there is 1 condition per time that needs to be evaluated. For example, if the first one is `{a<3:nz,A}` then `x,m,a<3,s` go to `nz` and `x,m,a>=3,s` are `A`.\n",
    "- So want to do the same as before, but let the function take ranges as input. Split up (recursively?) at each condition, save all ranges that end up at `A`.\n",
    "- So conceptually it's not too difficult, but I fear that I would need to write new functions .. Instead of evaluating the ints in a part, I need to determine the split from the str_op and return two new ranges and their destinations. "
   ]
  },
  {
   "cell_type": "code",
   "execution_count": 83,
   "metadata": {},
   "outputs": [
    {
     "data": {
      "text/plain": [
       "(part(x=167, m=55, a=1771, s=1356), part(x=123, m=55, a=1771, s=1356))"
      ]
     },
     "execution_count": 83,
     "metadata": {},
     "output_type": "execute_result"
    }
   ],
   "source": [
    "tmp = parts[0]._replace(**{'x': 123})\n",
    "parts[0], tmp"
   ]
  },
  {
   "cell_type": "code",
   "execution_count": 95,
   "metadata": {},
   "outputs": [],
   "source": [
    "part_range = collections.namedtuple('part_range', 'x_min x_max m_min m_max a_min a_max s_min s_max')\n",
    "\n",
    "def split_range(str_op, curr_range):\n",
    "    ## if str_op has no condition (box, A, R), return curr_range + destination \n",
    "    if str_op in ['A', 'R']:\n",
    "        return [(curr_range, str_op)]\n",
    "    elif ('<' in str_op or '>' in str_op):\n",
    "        tmp = str_op.split(':')\n",
    "        assert len(tmp) == 2, f'{str_op}'\n",
    "        cond = tmp[0]\n",
    "        result = tmp[1]\n",
    "        assert cond[1] in ['<', '>'], f'{cond} not < >'\n",
    "        operation = cond[1]\n",
    "        cond = cond.split(operation)\n",
    "        assert len(cond) == 2\n",
    "        component = cond[0]\n",
    "        value = int(cond[1])\n",
    "        assert len(component) == 1 and component in ['x', 'm', 'a', 's']\n",
    "\n",
    "        comp_min = getattr(curr_range, f'{component}_min')\n",
    "        comp_max = getattr(curr_range, f'{component}_max')\n",
    "        \n",
    "        if operation == '<':\n",
    "            if comp_max < value: \n",
    "                return [(curr_range, result)]\n",
    "            elif comp_min >= value:\n",
    "                return [(curr_range, None)]\n",
    "            else: \n",
    "                new_range_true = curr_range._replace(**{f'{component}_max': value - 1})\n",
    "                new_range_false = curr_range._replace(**{f'{component}_min': value})\n",
    "                return [(new_range_true, result), (new_range_false, None)]\n",
    "    else:\n",
    "        return [(curr_range, str_op)]\n",
    "    \n",
    "def evaluate_box_range(box_name, curr_range):\n",
    "    assert str(type(curr_range)) == \"<class '__main__.part_range'>\"\n",
    "    if box_name == 'A':\n",
    "        return ((curr_range.x_max - curr_range.x_min + 1) * (curr_range.m_max - curr_range.m_min + 1) * (curr_range.a_max - curr_range.a_min + 1) * (curr_range.s_max - curr_range.s_min + 1))\n",
    "    elif box_name == 'R':\n",
    "        return 0\n",
    "    else:\n",
    "        ops = dict_boxes[box_name]\n",
    "        n_ops = len(ops)\n",
    "        i_op = 0\n",
    "        list_new_ranges = [curr_range]\n",
    "        list_final_ranges = [] \n",
    "        while len(list_new_ranges) > 0:\n",
    "            tmp_curr_range = list_new_ranges.pop()\n",
    "            tmp_new_range_results = split_range(ops[i_op], tmp_curr_range)\n",
    "            for tmp_nr_result in tmp_new_range_results:\n",
    "                if tmp_nr_result[1] is not None:\n",
    "                    list_final_ranges.append(tmp_nr_result)\n",
    "                else:\n",
    "                    list_new_ranges.append(tmp_nr_result[0])\n",
    "            i_op += 1\n",
    "            if i_op == n_ops:\n",
    "                assert False, 'no result found'\n",
    "\n",
    "        for tmp_range in list_final_ranges:\n",
    "            evaluate_box_range(tmp_range[1], tmp_range[0])\n",
    "\n",
    "        # for op in ops:\n",
    "        #     tmp_list_new_ranges = split_range(op, curr_range)\n",
    "        #     for new_range_result in tmp_list_new_ranges:\n",
    "        #         if new_range_result[1] is not None:\n",
    "        #             list_new_ranges.append(new_range_result)\n",
    "        #         else:\n",
    "        #             list_new_    \n",
    "        assert False, 'no result found'\n",
    "    \n",
    "start_range = part_range(0, 4000, 0, 4000, 0, 4000, 0, 4000)"
   ]
  },
  {
   "cell_type": "code",
   "execution_count": 94,
   "metadata": {},
   "outputs": [
    {
     "data": {
      "text/plain": [
       "True"
      ]
     },
     "execution_count": 94,
     "metadata": {},
     "output_type": "execute_result"
    }
   ],
   "source": [
    "# split_range('x<123:R', start_range)\n",
    "str(type(start_range)) == \"<class '__main__.part_range'>\""
   ]
  },
  {
   "cell_type": "code",
   "execution_count": null,
   "metadata": {},
   "outputs": [],
   "source": [
    "def evaluate_op(str_op, part):\n",
    "    '''given a str_op and part, evaluate op and return result if True'''\n",
    "    op_fun, result_if_true = generic_op(str_op)\n",
    "    # print(op_fun(part), result_if_true)\n",
    "    if op_fun(part):\n",
    "        return result_if_true \n",
    "    else:\n",
    "        return None \n",
    "    \n",
    "def evaluate_box(box_name, part):\n",
    "    '''loop through ops in box and evaluate until result is found. recursively call other boxes if needed. assert false if end is reached without result'''\n",
    "    ops = dict_boxes[box_name]\n",
    "    for op in ops:\n",
    "        res = evaluate_op(op, part)\n",
    "        # print(op, res)\n",
    "        if res is not None:\n",
    "            if res in ['A', 'R']:\n",
    "                return res \n",
    "            else: \n",
    "                return evaluate_box(res, part)    \n",
    "    assert False, 'no result found'"
   ]
  }
 ],
 "metadata": {
  "kernelspec": {
   "display_name": "py37",
   "language": "python",
   "name": "python3"
  },
  "language_info": {
   "codemirror_mode": {
    "name": "ipython",
    "version": 3
   },
   "file_extension": ".py",
   "mimetype": "text/x-python",
   "name": "python",
   "nbconvert_exporter": "python",
   "pygments_lexer": "ipython3",
   "version": "3.10.13"
  }
 },
 "nbformat": 4,
 "nbformat_minor": 2
}
