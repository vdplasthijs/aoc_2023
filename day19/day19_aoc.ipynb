{
 "cells": [
  {
   "cell_type": "code",
   "execution_count": 1,
   "metadata": {},
   "outputs": [],
   "source": [
    "%load_ext autoreload\n",
    "%autoreload 2\n",
    "\n",
    "import numpy as np\n",
    "import os, sys \n",
    "sys.path.append('..')\n",
    "import collections\n",
    "import copy\n",
    "import itertools\n",
    "import aoc_utils as au\n",
    "import math \n",
    "from tqdm import tqdm"
   ]
  },
  {
   "cell_type": "code",
   "execution_count": 3,
   "metadata": {},
   "outputs": [],
   "source": [
    "input_text = au.read_txt_file_lines()\n",
    "n_rows = len(input_text)"
   ]
  },
  {
   "cell_type": "code",
   "execution_count": 6,
   "metadata": {},
   "outputs": [
    {
     "name": "stdout",
     "output_type": "stream",
     "text": [
      "506\n"
     ]
    }
   ],
   "source": [
    "for l in input_text:\n",
    "    if l == '':\n",
    "        print(input_text.index(l))\n",
    "        ind = input_text.index(l) \n",
    "\n",
    "input_ops = input_text[:ind] \n",
    "input_data = input_text[ind+1:]"
   ]
  },
  {
   "cell_type": "code",
   "execution_count": 15,
   "metadata": {},
   "outputs": [],
   "source": [
    "## store parts as named tuples\n",
    "part = collections.namedtuple('part', 'x m a s')\n",
    "parts = []\n",
    "for l in input_data:\n",
    "    tmp = l.lstrip('{').rstrip('}').split(',')\n",
    "    assert len(tmp) == 4 \n",
    "    assert tmp[0].startswith('x=') and tmp[1].startswith('m=') and tmp[2].startswith('a=') and tmp[3].startswith('s=')\n",
    "    tmp = [int(x.split('=')[1]) for x in tmp]\n",
    "    parts.append(part(*tmp))"
   ]
  },
  {
   "cell_type": "code",
   "execution_count": 74,
   "metadata": {},
   "outputs": [],
   "source": [
    "def generic_op(str_op):\n",
    "    '''given a str (like \"a<123:R\" or \"A\"), return a function that takes a part and returns True/False + outcome'''\n",
    "    if len(str_op) == 1:\n",
    "        if str_op == 'R':\n",
    "            return (lambda x: True, 'R')\n",
    "        elif str_op == 'A':\n",
    "            return (lambda x: True, 'A')\n",
    "        else:\n",
    "            assert False, 'unknown op'\n",
    "    elif len(str_op) > 1 and ('<' in str_op or '>' in str_op):\n",
    "        tmp = str_op.split(':')\n",
    "        assert len(tmp) == 2, f'{str_op}'\n",
    "        cond = tmp[0]\n",
    "        result = tmp[1]\n",
    "        assert cond[1] in ['<', '>'], f'{cond} not < >'\n",
    "        operation = cond[1]\n",
    "        cond = cond.split(operation)\n",
    "        assert len(cond) == 2\n",
    "        component = cond[0]\n",
    "        value = int(cond[1])\n",
    "        assert len(component) == 1 and component in ['x', 'm', 'a', 's']\n",
    "        if operation == '<':\n",
    "            return lambda x: getattr(x, component) < value, result\n",
    "        elif operation == '>':\n",
    "            return lambda x: getattr(x, component) > value, result\n",
    "        else:\n",
    "            assert False, 'unknown operation'\n",
    "    else:   ## box name \n",
    "        return (lambda x: True, str_op)\n",
    "\n",
    "def evaluate_op(str_op, part):\n",
    "    '''given a str_op and part, evaluate op and return result if True'''\n",
    "    op_fun, result_if_true = generic_op(str_op)\n",
    "    # print(op_fun(part), result_if_true)\n",
    "    if op_fun(part):\n",
    "        return result_if_true \n",
    "    else:\n",
    "        return None \n",
    "    \n",
    "def evaluate_box(box_name, part):\n",
    "    '''loop through ops in box and evaluate until result is found. recursively call other boxes if needed. assert false if end is reached without result'''\n",
    "    ops = dict_boxes[box_name]\n",
    "    for op in ops:\n",
    "        res = evaluate_op(op, part)\n",
    "        # print(op, res)\n",
    "        if res is not None:\n",
    "            if res in ['A', 'R']:\n",
    "                return res \n",
    "            else: \n",
    "                return evaluate_box(res, part)    \n",
    "    assert False, 'no result found'\n",
    "    \n",
    "## create dict with boxes with lsit of str_ops\n",
    "dict_boxes = {} \n",
    "for l in input_ops:\n",
    "    tmp = l.split('{')\n",
    "    assert len(tmp) == 2, f'{l}'\n",
    "    name_box = tmp[0]\n",
    "    all_ops = tmp[1].rstrip('}').split(',')\n",
    "    assert name_box not in dict_boxes\n",
    "    dict_boxes[name_box] = [x for x in all_ops]\n"
   ]
  },
  {
   "cell_type": "code",
   "execution_count": 75,
   "metadata": {},
   "outputs": [
    {
     "name": "stdout",
     "output_type": "stream",
     "text": [
      "353046\n"
     ]
    }
   ],
   "source": [
    "total_accepted = 0\n",
    "for part_curr in parts:\n",
    "    res = evaluate_box('in', part_curr)\n",
    "    if res == 'A':\n",
    "        total_accepted += (part_curr.x + part_curr.m + part_curr.a + part_curr.s) \n",
    "\n",
    "print(total_accepted)"
   ]
  },
  {
   "cell_type": "markdown",
   "metadata": {},
   "source": [
    "## part 2: \n",
    "\n",
    "excercise: of all possible parts with x,m,a,s in (0, 4000), how many combinations are possible?\n",
    "\n",
    "bit like day 5, which I solved very *hackily* at the time.. "
   ]
  },
  {
   "cell_type": "code",
   "execution_count": null,
   "metadata": {},
   "outputs": [],
   "source": []
  }
 ],
 "metadata": {
  "kernelspec": {
   "display_name": "py37",
   "language": "python",
   "name": "python3"
  },
  "language_info": {
   "codemirror_mode": {
    "name": "ipython",
    "version": 3
   },
   "file_extension": ".py",
   "mimetype": "text/x-python",
   "name": "python",
   "nbconvert_exporter": "python",
   "pygments_lexer": "ipython3",
   "version": "3.10.13"
  }
 },
 "nbformat": 4,
 "nbformat_minor": 2
}
