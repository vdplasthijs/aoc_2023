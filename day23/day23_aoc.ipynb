{
 "cells": [
  {
   "cell_type": "code",
   "execution_count": 1,
   "metadata": {},
   "outputs": [],
   "source": [
    "%load_ext autoreload\n",
    "%autoreload 2\n",
    "\n",
    "import numpy as np\n",
    "import os, sys \n",
    "sys.path.append('..')\n",
    "import collections\n",
    "import copy\n",
    "import itertools\n",
    "import aoc_utils as au\n",
    "import math \n",
    "from tqdm import tqdm"
   ]
  },
  {
   "cell_type": "code",
   "execution_count": 50,
   "metadata": {},
   "outputs": [
    {
     "name": "stdout",
     "output_type": "stream",
     "text": [
      "input has 141 rows and 141 cols\n",
      "unique_chars: {'>', 'v', '#', '.'}\n"
     ]
    }
   ],
   "source": [
    "input_text = au.read_txt_file_lines('input.txt')\n",
    "n_rows = len(input_text)\n",
    "n_cols = len(input_text[0])\n",
    "for ii in range(1, n_rows):\n",
    "    assert len(input_text[ii]) == n_cols, f'row {ii} has {len(input_text[ii])} cols, not {n_cols}'\n",
    "print(f'input has {n_rows} rows and {n_cols} cols')\n",
    "\n",
    "for ic, col in enumerate(input_text[0]):\n",
    "    if ic != 1:\n",
    "        assert col == '#', ic\n",
    "for ic, col in enumerate(input_text[-1]):\n",
    "    if ic != n_cols - 2:\n",
    "        assert col == '#', ic\n",
    "for row in input_text:\n",
    "    assert row[0] == '#', f'row {row} not valid'\n",
    "    assert row[-1] == '#', f'row {row} not valid'\n",
    "\n",
    "unique_chars = set()\n",
    "for row in input_text:\n",
    "    unique_chars.update(row)\n",
    "print(f'unique_chars: {unique_chars}')"
   ]
  },
  {
   "cell_type": "code",
   "execution_count": 53,
   "metadata": {},
   "outputs": [],
   "source": [
    "path_tuple = collections.namedtuple('path', 'head visited_nodes')\n",
    "\n",
    "def progress_til_junction(path, input_text, end_node=(n_rows - 1, n_cols - 2)):\n",
    "    n_rows, n_cols = len(input_text), len(input_text[0])\n",
    "    current_row, current_col = path.head\n",
    "    while True:\n",
    "        possible_next_nodes = []\n",
    "        if input_text[current_row][current_col] == '>':\n",
    "            if current_col < n_cols - 1 and input_text[current_row][current_col + 1] in ['.', '>']:\n",
    "                possible_next_nodes.append((current_row, current_col + 1))\n",
    "        elif input_text[current_row][current_col] == 'v':\n",
    "            if current_row < n_rows - 1 and input_text[current_row + 1][current_col] in ['.', 'v']:\n",
    "                possible_next_nodes.append((current_row + 1, current_col))\n",
    "        else:\n",
    "            if current_col < n_cols - 1 and input_text[current_row][current_col + 1] in ['.', '>']:\n",
    "                possible_next_nodes.append((current_row, current_col + 1))\n",
    "            if current_col > 0 and input_text[current_row][current_col - 1] == '.':\n",
    "                possible_next_nodes.append((current_row, current_col - 1))\n",
    "            if current_row < n_rows - 1 and input_text[current_row + 1][current_col] in ['.', 'v']:\n",
    "                possible_next_nodes.append((current_row + 1, current_col))\n",
    "            if current_row > 0 and input_text[current_row - 1][current_col] == '.':\n",
    "                possible_next_nodes.append((current_row - 1, current_col))\n",
    "\n",
    "        possible_next_nodes = [node for node in possible_next_nodes if node not in path.visited_nodes]\n",
    "\n",
    "        if len(possible_next_nodes) == 0:\n",
    "            if path.head == end_node:\n",
    "                return True, path\n",
    "            else:\n",
    "                print(f'path {path} has no possible next nodes')\n",
    "                return False, []\n",
    "        elif len(possible_next_nodes) == 1:\n",
    "            new_visited_nodes = copy.deepcopy(path.visited_nodes)\n",
    "            new_visited_nodes.add(path.head)\n",
    "            path = path._replace(head=possible_next_nodes[0])\n",
    "            path = path._replace(visited_nodes=new_visited_nodes)\n",
    "            current_row, current_col = path.head\n",
    "        else:\n",
    "            new_paths = []\n",
    "            for node in possible_next_nodes:\n",
    "                new_visited_nodes = copy.deepcopy(path.visited_nodes)\n",
    "                new_visited_nodes.add(path.head)\n",
    "                new_paths.append(path_tuple(node, new_visited_nodes))\n",
    "            return False, new_paths \n",
    "        \n",
    "def find_longest_path(input_text, start_row=0, start_col=1, verbose=1):\n",
    "    visited_nodes = set()\n",
    "    visited_nodes.add((start_row, start_col))\n",
    "    queue_paths = collections.deque()\n",
    "    queue_paths.append(path_tuple((start_row, start_col), visited_nodes))\n",
    "    paths_to_end = []\n",
    "    i_path = 0\n",
    "    while len(queue_paths) > 0: \n",
    "        i_path += 1\n",
    "        current_path = queue_paths.popleft()\n",
    "        if verbose > 0:\n",
    "            print(f'starting new path (#{i_path}), starting at {current_path.head}. {len(queue_paths)} paths left in queue')\n",
    "        reached_end, new_path = progress_til_junction(current_path, input_text)\n",
    "        if reached_end:\n",
    "            if  verbose > 1:\n",
    "                print(f'found end {new_path}')\n",
    "            paths_to_end.append(new_path)\n",
    "        else:\n",
    "            if verbose > 1:\n",
    "                print(f'adding {len(new_path)} new paths')\n",
    "            queue_paths.extend(new_path)\n",
    "\n",
    "    if verbose > 0:\n",
    "        print(f'found {len(paths_to_end)} paths to end')\n",
    "    return paths_to_end"
   ]
  },
  {
   "cell_type": "code",
   "execution_count": null,
   "metadata": {},
   "outputs": [],
   "source": [
    "paths_to_end = find_longest_path(input_text, verbose=1)\n",
    "paths_length = [len(path.visited_nodes) for path in paths_to_end]\n",
    "max_path_length = max(paths_length)\n",
    "print(f'max_path_length: {max_path_length}')"
   ]
  },
  {
   "cell_type": "code",
   "execution_count": 42,
   "metadata": {},
   "outputs": [
    {
     "data": {
      "text/plain": [
       "path(head=(0, 1), visited_nodes={(0, 1)})"
      ]
     },
     "execution_count": 42,
     "metadata": {},
     "output_type": "execute_result"
    }
   ],
   "source": [
    "path((0, 1), set([(0, 1)]))"
   ]
  },
  {
   "cell_type": "code",
   "execution_count": null,
   "metadata": {},
   "outputs": [],
   "source": []
  }
 ],
 "metadata": {
  "kernelspec": {
   "display_name": "py37",
   "language": "python",
   "name": "python3"
  },
  "language_info": {
   "codemirror_mode": {
    "name": "ipython",
    "version": 3
   },
   "file_extension": ".py",
   "mimetype": "text/x-python",
   "name": "python",
   "nbconvert_exporter": "python",
   "pygments_lexer": "ipython3",
   "version": "3.7.4"
  }
 },
 "nbformat": 4,
 "nbformat_minor": 2
}
